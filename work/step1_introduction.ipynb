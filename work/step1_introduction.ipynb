{
 "cells": [
  {
   "cell_type": "code",
   "execution_count": 1,
   "metadata": {},
   "outputs": [
    {
     "name": "stdout",
     "output_type": "stream",
     "text": [
      "hello world\n"
     ]
    }
   ],
   "source": [
    "print(\"hello world\")"
   ]
  },
  {
   "cell_type": "code",
   "execution_count": 3,
   "metadata": {},
   "outputs": [
    {
     "name": "stdout",
     "output_type": "stream",
     "text": [
      "1\n",
      "2\n",
      "3\n",
      "4\n",
      "5\n",
      "6\n",
      "7\n",
      "8\n",
      "9\n",
      "10\n"
     ]
    }
   ],
   "source": [
    "# 創建一個變數 iamInt ，值為 0\n",
    "# 創建一個變數 iamString，值為 我們要變很厲害\n",
    "iamInt = 0\n",
    "iamString = \"我們要變很厲害\"\n",
    "\n",
    "# 設計一個迴圈，讓該迴圈跑十次循環，每次循環都對iamInt，進行加1，且印出。\n",
    "for i in range(0,10):\n",
    "    iamInt = iamInt + 1\n",
    "    print(iamInt)"
   ]
  },
  {
   "cell_type": "code",
   "execution_count": 4,
   "metadata": {},
   "outputs": [
    {
     "name": "stdout",
     "output_type": "stream",
     "text": [
      "3\n",
      "iamStringValue\n"
     ]
    }
   ],
   "source": [
    "# 創建一個Array，內容需為 [1,2,3,4,5]\n",
    "# 創建一個dict，內容需為 { 'iamStringKey' : \"iamStringValue\" } \n",
    "iamList = [1,2,3,4,5]\n",
    "iamDict = { 'iamStringKey' : \"iamStringValue\" }\n",
    "\n",
    "# 取出上述之Array 第三個元素的值\n",
    "# 將iamStringKey的內容值取出\n",
    "print(iamList[2])\n",
    "print(iamDict['iamStringKey'])"
   ]
  }
 ],
 "metadata": {
  "kernelspec": {
   "display_name": "Python 3",
   "language": "python",
   "name": "python3"
  },
  "language_info": {
   "codemirror_mode": {
    "name": "ipython",
    "version": 3
   },
   "file_extension": ".py",
   "mimetype": "text/x-python",
   "name": "python",
   "nbconvert_exporter": "python",
   "pygments_lexer": "ipython3",
   "version": "3.6.5"
  }
 },
 "nbformat": 4,
 "nbformat_minor": 2
}
